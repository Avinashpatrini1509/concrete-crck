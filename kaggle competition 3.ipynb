{
 "cells": [
  {
   "cell_type": "markdown",
   "id": "e6ebc037",
   "metadata": {},
   "source": [
    "# Imports"
   ]
  },
  {
   "cell_type": "code",
   "execution_count": 19,
   "id": "962a4224",
   "metadata": {},
   "outputs": [],
   "source": [
    "import tensorflow as tf"
   ]
  },
  {
   "cell_type": "code",
   "execution_count": 2,
   "id": "a5a02aa8",
   "metadata": {},
   "outputs": [],
   "source": [
    "import pandas as pd"
   ]
  },
  {
   "cell_type": "code",
   "execution_count": 3,
   "id": "28170a78",
   "metadata": {},
   "outputs": [],
   "source": [
    "import numpy as np"
   ]
  },
  {
   "cell_type": "code",
   "execution_count": 8,
   "id": "9601b730",
   "metadata": {},
   "outputs": [],
   "source": [
    "# import pertinent libraries\n",
    "import os\n",
    "import sys\n",
    "import datetime\n",
    "import glob as glob\n",
    "import numpy as np\n",
    "# [Keras Models]\n",
    "# import the Keras implementations of VGG16, VGG19, InceptionV3 and Xception models\n",
    "# the model used here is VGG16\n",
    "from keras.applications.vgg16 import VGG16, preprocess_input\n",
    "from keras.models import Model\n",
    "from keras.layers import Dense, GlobalAveragePooling2D\n",
    "from keras.preprocessing.image import ImageDataGenerator, array_to_img, img_to_array, load_img\n",
    "from tensorflow.keras.optimizers import SGD\n",
    "import tensorflow\n",
    "\n",
    "import pandas as pd\n",
    "import matplotlib.pyplot as plt\n",
    "%matplotlib inline"
   ]
  },
  {
   "cell_type": "code",
   "execution_count": 21,
   "id": "ddb80a42",
   "metadata": {},
   "outputs": [],
   "source": [
    "import keras\n",
    "from keras.preprocessing.image import ImageDataGenerator\n",
    "from keras.models import Sequential\n",
    "from keras.layers import Dense\n",
    "from tensorflow.keras.applications.resnet50 import ResNet50\n",
    "from tensorflow.keras.applications.resnet50 import preprocess_input"
   ]
  },
  {
   "cell_type": "code",
   "execution_count": null,
   "id": "b5e4ba50",
   "metadata": {},
   "outputs": [],
   "source": []
  },
  {
   "cell_type": "code",
   "execution_count": null,
   "id": "c3dfc83a",
   "metadata": {},
   "outputs": [],
   "source": []
  },
  {
   "cell_type": "markdown",
   "id": "9bac84cb",
   "metadata": {},
   "source": [
    "# Data"
   ]
  },
  {
   "cell_type": "code",
   "execution_count": 10,
   "id": "373baa1e",
   "metadata": {},
   "outputs": [],
   "source": [
    "negative_images = os.listdir(\"E:\\\\Bali\\\\Kaggle Competition\\\\train\\\\Negative\")\n",
    "positive_images = os.listdir(\"E:\\\\Bali\\\\Kaggle Competition\\\\train\\\\Positive\")"
   ]
  },
  {
   "cell_type": "code",
   "execution_count": 22,
   "id": "140c7e6d",
   "metadata": {},
   "outputs": [],
   "source": [
    "num_classes = 2\n",
    "image_resize = 224\n",
    "batch_size_training = 50\n",
    "batch_size_validation = 50"
   ]
  },
  {
   "cell_type": "code",
   "execution_count": 23,
   "id": "30b835de",
   "metadata": {},
   "outputs": [],
   "source": [
    "data_generator = ImageDataGenerator(\n",
    "    preprocessing_function=preprocess_input,\n",
    ")"
   ]
  },
  {
   "cell_type": "code",
   "execution_count": 24,
   "id": "0ba4cc5d",
   "metadata": {},
   "outputs": [
    {
     "name": "stdout",
     "output_type": "stream",
     "text": [
      "Found 600 images belonging to 2 classes.\n"
     ]
    }
   ],
   "source": [
    "train_generator = data_generator.flow_from_directory(\n",
    "    \"E:\\\\Bali\\\\Kaggle Competition\\\\train\",\n",
    "    target_size=(image_resize, image_resize),\n",
    "    batch_size=batch_size_training,\n",
    "    class_mode='categorical')"
   ]
  },
  {
   "cell_type": "code",
   "execution_count": 25,
   "id": "9bc4df52",
   "metadata": {},
   "outputs": [
    {
     "name": "stdout",
     "output_type": "stream",
     "text": [
      "Found 200 images belonging to 2 classes.\n"
     ]
    }
   ],
   "source": [
    "validation_generator = data_generator.flow_from_directory(\n",
    "    'E:\\\\Bali\\\\Kaggle Competition\\\\valid',\n",
    "    target_size=(image_resize, image_resize),\n",
    "    batch_size=batch_size_validation,\n",
    "    class_mode='categorical')"
   ]
  },
  {
   "cell_type": "markdown",
   "id": "ad5a2a23",
   "metadata": {},
   "source": [
    "# Model"
   ]
  },
  {
   "cell_type": "code",
   "execution_count": 26,
   "id": "886fe507",
   "metadata": {},
   "outputs": [
    {
     "name": "stdout",
     "output_type": "stream",
     "text": [
      "Downloading data from https://storage.googleapis.com/tensorflow/keras-applications/resnet/resnet50_weights_tf_dim_ordering_tf_kernels_notop.h5\n",
      "94773248/94765736 [==============================] - 97s 1us/step\n",
      "94781440/94765736 [==============================] - 97s 1us/step\n",
      "Model: \"sequential\"\n",
      "_________________________________________________________________\n",
      " Layer (type)                Output Shape              Param #   \n",
      "=================================================================\n",
      " resnet50 (Functional)       (None, 2048)              23587712  \n",
      "                                                                 \n",
      " dense (Dense)               (None, 2)                 4098      \n",
      "                                                                 \n",
      "=================================================================\n",
      "Total params: 23,591,810\n",
      "Trainable params: 23,538,690\n",
      "Non-trainable params: 53,120\n",
      "_________________________________________________________________\n"
     ]
    }
   ],
   "source": [
    "model = Sequential()\n",
    "model.add(ResNet50(\n",
    "    include_top=False,\n",
    "    pooling='avg',\n",
    "    weights='imagenet',\n",
    "    ))\n",
    "model.add(Dense(num_classes, activation='softmax'))\n"
   ]
  },
  {
   "cell_type": "code",
   "execution_count": 28,
   "id": "a91e8a0f",
   "metadata": {},
   "outputs": [],
   "source": [
    "model.add(Dense(2, activation = \"sigmoid\"))"
   ]
  },
  {
   "cell_type": "code",
   "execution_count": 30,
   "id": "0b217607",
   "metadata": {},
   "outputs": [],
   "source": [
    "model.layers[0].trainable = False"
   ]
  },
  {
   "cell_type": "code",
   "execution_count": 31,
   "id": "fa0c8903",
   "metadata": {},
   "outputs": [
    {
     "name": "stdout",
     "output_type": "stream",
     "text": [
      "Model: \"sequential\"\n",
      "_________________________________________________________________\n",
      " Layer (type)                Output Shape              Param #   \n",
      "=================================================================\n",
      " resnet50 (Functional)       (None, 2048)              23587712  \n",
      "                                                                 \n",
      " dense (Dense)               (None, 2)                 4098      \n",
      "                                                                 \n",
      " dense_1 (Dense)             (None, 2)                 6         \n",
      "                                                                 \n",
      "=================================================================\n",
      "Total params: 23,591,816\n",
      "Trainable params: 4,104\n",
      "Non-trainable params: 23,587,712\n",
      "_________________________________________________________________\n"
     ]
    }
   ],
   "source": [
    "model.summary()"
   ]
  },
  {
   "cell_type": "code",
   "execution_count": 37,
   "id": "19a26d4d",
   "metadata": {},
   "outputs": [],
   "source": [
    "model.compile(optimizer='adam', loss='categorical_crossentropy')"
   ]
  },
  {
   "cell_type": "code",
   "execution_count": 38,
   "id": "56ba5bca",
   "metadata": {},
   "outputs": [],
   "source": [
    "steps_per_epoch_training = len(train_generator)\n",
    "steps_per_epoch_validation = len(validation_generator)\n",
    "num_epochs = 50"
   ]
  },
  {
   "cell_type": "code",
   "execution_count": 39,
   "id": "1bbf52c7",
   "metadata": {},
   "outputs": [
    {
     "name": "stdout",
     "output_type": "stream",
     "text": [
      "Epoch 1/50\n"
     ]
    },
    {
     "name": "stderr",
     "output_type": "stream",
     "text": [
      "C:\\Users\\ASUS\\AppData\\Local\\Temp\\ipykernel_16300\\251737888.py:1: UserWarning: `Model.fit_generator` is deprecated and will be removed in a future version. Please use `Model.fit`, which supports generators.\n",
      "  fit_history = model.fit_generator(\n"
     ]
    },
    {
     "name": "stdout",
     "output_type": "stream",
     "text": [
      "12/12 [==============================] - 10s 586ms/step - loss: 0.5070 - val_loss: 0.5002\n",
      "Epoch 2/50\n",
      "12/12 [==============================] - 6s 509ms/step - loss: 0.4943 - val_loss: 0.4898\n",
      "Epoch 3/50\n",
      "12/12 [==============================] - 6s 507ms/step - loss: 0.4838 - val_loss: 0.4805\n",
      "Epoch 4/50\n",
      "12/12 [==============================] - 6s 506ms/step - loss: 0.4741 - val_loss: 0.4711\n",
      "Epoch 5/50\n",
      "12/12 [==============================] - 6s 507ms/step - loss: 0.4646 - val_loss: 0.4623\n",
      "Epoch 6/50\n",
      "12/12 [==============================] - 6s 507ms/step - loss: 0.4555 - val_loss: 0.4539\n",
      "Epoch 7/50\n",
      "12/12 [==============================] - 6s 507ms/step - loss: 0.4467 - val_loss: 0.4454\n",
      "Epoch 8/50\n",
      "12/12 [==============================] - 6s 518ms/step - loss: 0.4383 - val_loss: 0.4370\n",
      "Epoch 9/50\n",
      "12/12 [==============================] - 6s 508ms/step - loss: 0.4300 - val_loss: 0.4292\n",
      "Epoch 10/50\n",
      "12/12 [==============================] - 6s 508ms/step - loss: 0.4220 - val_loss: 0.4213\n",
      "Epoch 11/50\n",
      "12/12 [==============================] - 6s 506ms/step - loss: 0.4142 - val_loss: 0.4136\n",
      "Epoch 12/50\n",
      "12/12 [==============================] - 6s 506ms/step - loss: 0.4066 - val_loss: 0.4065\n",
      "Epoch 13/50\n",
      "12/12 [==============================] - 6s 506ms/step - loss: 0.3990 - val_loss: 0.3989\n",
      "Epoch 14/50\n",
      "12/12 [==============================] - 6s 508ms/step - loss: 0.3919 - val_loss: 0.3919\n",
      "Epoch 15/50\n",
      "12/12 [==============================] - 6s 510ms/step - loss: 0.3848 - val_loss: 0.3852\n",
      "Epoch 16/50\n",
      "12/12 [==============================] - 6s 510ms/step - loss: 0.3779 - val_loss: 0.3784\n",
      "Epoch 17/50\n",
      "12/12 [==============================] - 6s 508ms/step - loss: 0.3712 - val_loss: 0.3720\n",
      "Epoch 18/50\n",
      "12/12 [==============================] - 6s 510ms/step - loss: 0.3646 - val_loss: 0.3656\n",
      "Epoch 19/50\n",
      "12/12 [==============================] - 6s 508ms/step - loss: 0.3582 - val_loss: 0.3593\n",
      "Epoch 20/50\n",
      "12/12 [==============================] - 6s 509ms/step - loss: 0.3520 - val_loss: 0.3532\n",
      "Epoch 21/50\n",
      "12/12 [==============================] - 6s 510ms/step - loss: 0.3459 - val_loss: 0.3472\n",
      "Epoch 22/50\n",
      "12/12 [==============================] - 6s 507ms/step - loss: 0.3399 - val_loss: 0.3414\n",
      "Epoch 23/50\n",
      "12/12 [==============================] - 6s 509ms/step - loss: 0.3341 - val_loss: 0.3357\n",
      "Epoch 24/50\n",
      "12/12 [==============================] - 6s 508ms/step - loss: 0.3284 - val_loss: 0.3301\n",
      "Epoch 25/50\n",
      "12/12 [==============================] - 6s 508ms/step - loss: 0.3228 - val_loss: 0.3247\n",
      "Epoch 26/50\n",
      "12/12 [==============================] - 6s 512ms/step - loss: 0.3174 - val_loss: 0.3194\n",
      "Epoch 27/50\n",
      "12/12 [==============================] - 6s 512ms/step - loss: 0.3120 - val_loss: 0.3142\n",
      "Epoch 28/50\n",
      "12/12 [==============================] - 6s 509ms/step - loss: 0.3068 - val_loss: 0.3092\n",
      "Epoch 29/50\n",
      "12/12 [==============================] - 6s 515ms/step - loss: 0.3017 - val_loss: 0.3041\n",
      "Epoch 30/50\n",
      "12/12 [==============================] - 6s 507ms/step - loss: 0.2967 - val_loss: 0.2992\n",
      "Epoch 31/50\n",
      "12/12 [==============================] - 6s 509ms/step - loss: 0.2918 - val_loss: 0.2945\n",
      "Epoch 32/50\n",
      "12/12 [==============================] - 6s 509ms/step - loss: 0.2871 - val_loss: 0.2898\n",
      "Epoch 33/50\n",
      "12/12 [==============================] - 6s 508ms/step - loss: 0.2824 - val_loss: 0.2853\n",
      "Epoch 34/50\n",
      "12/12 [==============================] - 6s 508ms/step - loss: 0.2779 - val_loss: 0.2809\n",
      "Epoch 35/50\n",
      "12/12 [==============================] - 6s 512ms/step - loss: 0.2734 - val_loss: 0.2764\n",
      "Epoch 36/50\n",
      "12/12 [==============================] - 6s 508ms/step - loss: 0.2690 - val_loss: 0.2722\n",
      "Epoch 37/50\n",
      "12/12 [==============================] - 6s 514ms/step - loss: 0.2647 - val_loss: 0.2680\n",
      "Epoch 38/50\n",
      "12/12 [==============================] - 6s 508ms/step - loss: 0.2606 - val_loss: 0.2639\n",
      "Epoch 39/50\n",
      "12/12 [==============================] - 6s 507ms/step - loss: 0.2565 - val_loss: 0.2598\n",
      "Epoch 40/50\n",
      "12/12 [==============================] - 6s 512ms/step - loss: 0.2525 - val_loss: 0.2559\n",
      "Epoch 41/50\n",
      "12/12 [==============================] - 6s 506ms/step - loss: 0.2485 - val_loss: 0.2521\n",
      "Epoch 42/50\n",
      "12/12 [==============================] - 6s 507ms/step - loss: 0.2447 - val_loss: 0.2484\n",
      "Epoch 43/50\n",
      "12/12 [==============================] - 6s 507ms/step - loss: 0.2409 - val_loss: 0.2446\n",
      "Epoch 44/50\n",
      "12/12 [==============================] - 6s 507ms/step - loss: 0.2372 - val_loss: 0.2410\n",
      "Epoch 45/50\n",
      "12/12 [==============================] - 6s 506ms/step - loss: 0.2336 - val_loss: 0.2375\n",
      "Epoch 46/50\n",
      "12/12 [==============================] - 6s 508ms/step - loss: 0.2301 - val_loss: 0.2340\n",
      "Epoch 47/50\n",
      "12/12 [==============================] - 6s 507ms/step - loss: 0.2266 - val_loss: 0.2306\n",
      "Epoch 48/50\n",
      "12/12 [==============================] - 6s 507ms/step - loss: 0.2232 - val_loss: 0.2274\n",
      "Epoch 49/50\n",
      "12/12 [==============================] - 6s 508ms/step - loss: 0.2194 - val_loss: 0.2240\n",
      "Epoch 50/50\n",
      "12/12 [==============================] - 6s 506ms/step - loss: 0.2173 - val_loss: 0.2205\n"
     ]
    }
   ],
   "source": [
    "fit_history = model.fit_generator(\n",
    "    train_generator,\n",
    "    steps_per_epoch=steps_per_epoch_training,\n",
    "    epochs=num_epochs,\n",
    "    validation_data=validation_generator,\n",
    "    validation_steps=steps_per_epoch_validation,\n",
    "    verbose=1,\n",
    ")"
   ]
  },
  {
   "cell_type": "code",
   "execution_count": 40,
   "id": "1a1d4881",
   "metadata": {},
   "outputs": [],
   "source": [
    "model.save('resnet_model1.h5')"
   ]
  },
  {
   "cell_type": "markdown",
   "id": "0a5d09b7",
   "metadata": {},
   "source": [
    "# Model 2"
   ]
  },
  {
   "cell_type": "code",
   "execution_count": 41,
   "id": "9627d062",
   "metadata": {},
   "outputs": [],
   "source": [
    "from keras.applications.vgg16 import VGG16\n"
   ]
  },
  {
   "cell_type": "code",
   "execution_count": 42,
   "id": "71373423",
   "metadata": {},
   "outputs": [
    {
     "name": "stdout",
     "output_type": "stream",
     "text": [
      "Downloading data from https://storage.googleapis.com/tensorflow/keras-applications/vgg16/vgg16_weights_tf_dim_ordering_tf_kernels_notop.h5\n",
      "58892288/58889256 [==============================] - 61s 1us/step\n",
      "58900480/58889256 [==============================] - 61s 1us/step\n"
     ]
    }
   ],
   "source": [
    "model_vgg = Sequential()\n",
    "model_vgg.add(VGG16(\n",
    "    include_top=False,\n",
    "    pooling='avg',\n",
    "    weights='imagenet',\n",
    "    ))\n",
    "model_vgg.add(Dense(num_classes, activation='softmax'))\n",
    "model_vgg.add(Dense(num_classes, activation ='sigmoid'))"
   ]
  },
  {
   "cell_type": "code",
   "execution_count": 43,
   "id": "141a0c00",
   "metadata": {},
   "outputs": [],
   "source": [
    "model_vgg.layers[0].trainable = False"
   ]
  },
  {
   "cell_type": "code",
   "execution_count": 44,
   "id": "a08ea080",
   "metadata": {},
   "outputs": [
    {
     "name": "stdout",
     "output_type": "stream",
     "text": [
      "Model: \"sequential_1\"\n",
      "_________________________________________________________________\n",
      " Layer (type)                Output Shape              Param #   \n",
      "=================================================================\n",
      " vgg16 (Functional)          (None, 512)               14714688  \n",
      "                                                                 \n",
      " dense_2 (Dense)             (None, 2)                 1026      \n",
      "                                                                 \n",
      " dense_3 (Dense)             (None, 2)                 6         \n",
      "                                                                 \n",
      "=================================================================\n",
      "Total params: 14,715,720\n",
      "Trainable params: 1,032\n",
      "Non-trainable params: 14,714,688\n",
      "_________________________________________________________________\n"
     ]
    }
   ],
   "source": [
    "model_vgg.summary()"
   ]
  },
  {
   "cell_type": "code",
   "execution_count": 45,
   "id": "f3c555f9",
   "metadata": {},
   "outputs": [],
   "source": [
    "model_vgg.compile(optimizer='adam', loss='categorical_crossentropy', metrics=['accuracy'])"
   ]
  },
  {
   "cell_type": "code",
   "execution_count": 46,
   "id": "f145aa12",
   "metadata": {},
   "outputs": [
    {
     "name": "stdout",
     "output_type": "stream",
     "text": [
      "Epoch 1/50\n"
     ]
    },
    {
     "name": "stderr",
     "output_type": "stream",
     "text": [
      "C:\\Users\\ASUS\\AppData\\Local\\Temp\\ipykernel_16300\\1082872653.py:1: UserWarning: `Model.fit_generator` is deprecated and will be removed in a future version. Please use `Model.fit`, which supports generators.\n",
      "  fit_history_vgg = model_vgg.fit_generator(\n"
     ]
    },
    {
     "name": "stdout",
     "output_type": "stream",
     "text": [
      "12/12 [==============================] - 23s 955ms/step - loss: 0.6796 - accuracy: 0.6500 - val_loss: 0.3997 - val_accuracy: 0.8600\n",
      "Epoch 2/50\n",
      "12/12 [==============================] - 11s 952ms/step - loss: 0.4117 - accuracy: 0.8283 - val_loss: 0.2571 - val_accuracy: 0.9500\n",
      "Epoch 3/50\n",
      "12/12 [==============================] - 11s 931ms/step - loss: 0.2977 - accuracy: 0.9117 - val_loss: 0.2272 - val_accuracy: 0.9550\n",
      "Epoch 4/50\n",
      "12/12 [==============================] - 11s 931ms/step - loss: 0.2512 - accuracy: 0.9367 - val_loss: 0.2075 - val_accuracy: 0.9650\n",
      "Epoch 5/50\n",
      "12/12 [==============================] - 11s 929ms/step - loss: 0.2258 - accuracy: 0.9517 - val_loss: 0.1940 - val_accuracy: 0.9750\n",
      "Epoch 6/50\n",
      "12/12 [==============================] - 11s 928ms/step - loss: 0.2083 - accuracy: 0.9550 - val_loss: 0.1877 - val_accuracy: 0.9700\n",
      "Epoch 7/50\n",
      "12/12 [==============================] - 11s 935ms/step - loss: 0.1942 - accuracy: 0.9700 - val_loss: 0.1824 - val_accuracy: 0.9750\n",
      "Epoch 8/50\n",
      "12/12 [==============================] - 11s 931ms/step - loss: 0.1836 - accuracy: 0.9767 - val_loss: 0.1738 - val_accuracy: 0.9750\n",
      "Epoch 9/50\n",
      "12/12 [==============================] - 11s 931ms/step - loss: 0.1744 - accuracy: 0.9800 - val_loss: 0.1680 - val_accuracy: 0.9800\n",
      "Epoch 10/50\n",
      "12/12 [==============================] - 11s 930ms/step - loss: 0.1678 - accuracy: 0.9817 - val_loss: 0.1627 - val_accuracy: 0.9800\n",
      "Epoch 11/50\n",
      "12/12 [==============================] - 11s 932ms/step - loss: 0.1601 - accuracy: 0.9850 - val_loss: 0.1582 - val_accuracy: 0.9800\n",
      "Epoch 12/50\n",
      "12/12 [==============================] - 11s 930ms/step - loss: 0.1542 - accuracy: 0.9883 - val_loss: 0.1536 - val_accuracy: 0.9800\n",
      "Epoch 13/50\n",
      "12/12 [==============================] - 11s 929ms/step - loss: 0.1488 - accuracy: 0.9917 - val_loss: 0.1502 - val_accuracy: 0.9800\n",
      "Epoch 14/50\n",
      "12/12 [==============================] - 11s 929ms/step - loss: 0.1437 - accuracy: 0.9900 - val_loss: 0.1451 - val_accuracy: 0.9800\n",
      "Epoch 15/50\n",
      "12/12 [==============================] - 11s 932ms/step - loss: 0.1387 - accuracy: 0.9933 - val_loss: 0.1414 - val_accuracy: 0.9800\n",
      "Epoch 16/50\n",
      "12/12 [==============================] - 11s 937ms/step - loss: 0.1350 - accuracy: 0.9933 - val_loss: 0.1391 - val_accuracy: 0.9900\n",
      "Epoch 17/50\n",
      "12/12 [==============================] - 11s 943ms/step - loss: 0.1306 - accuracy: 0.9950 - val_loss: 0.1348 - val_accuracy: 0.9800\n",
      "Epoch 18/50\n",
      "12/12 [==============================] - 11s 945ms/step - loss: 0.1268 - accuracy: 0.9950 - val_loss: 0.1324 - val_accuracy: 0.9900\n",
      "Epoch 19/50\n",
      "12/12 [==============================] - 11s 941ms/step - loss: 0.1233 - accuracy: 0.9950 - val_loss: 0.1291 - val_accuracy: 0.9950\n",
      "Epoch 20/50\n",
      "12/12 [==============================] - 11s 930ms/step - loss: 0.1200 - accuracy: 0.9950 - val_loss: 0.1257 - val_accuracy: 0.9900\n",
      "Epoch 21/50\n",
      "12/12 [==============================] - 11s 938ms/step - loss: 0.1166 - accuracy: 0.9950 - val_loss: 0.1239 - val_accuracy: 0.9950\n",
      "Epoch 22/50\n",
      "12/12 [==============================] - 11s 937ms/step - loss: 0.1137 - accuracy: 0.9950 - val_loss: 0.1208 - val_accuracy: 0.9950\n",
      "Epoch 23/50\n",
      "12/12 [==============================] - 11s 928ms/step - loss: 0.1108 - accuracy: 0.9950 - val_loss: 0.1180 - val_accuracy: 0.9950\n",
      "Epoch 24/50\n",
      "12/12 [==============================] - 11s 931ms/step - loss: 0.1081 - accuracy: 0.9950 - val_loss: 0.1158 - val_accuracy: 0.9950\n",
      "Epoch 25/50\n",
      "12/12 [==============================] - 11s 930ms/step - loss: 0.1056 - accuracy: 0.9950 - val_loss: 0.1134 - val_accuracy: 0.9950\n",
      "Epoch 26/50\n",
      "12/12 [==============================] - 11s 930ms/step - loss: 0.1031 - accuracy: 0.9950 - val_loss: 0.1110 - val_accuracy: 0.9950\n",
      "Epoch 27/50\n",
      "12/12 [==============================] - 11s 928ms/step - loss: 0.1008 - accuracy: 0.9950 - val_loss: 0.1091 - val_accuracy: 0.9950\n",
      "Epoch 28/50\n",
      "12/12 [==============================] - 11s 930ms/step - loss: 0.0981 - accuracy: 0.9950 - val_loss: 0.1066 - val_accuracy: 0.9950\n",
      "Epoch 29/50\n",
      "12/12 [==============================] - 9s 778ms/step - loss: 0.0959 - accuracy: 0.9950 - val_loss: 0.1051 - val_accuracy: 0.9950\n",
      "Epoch 30/50\n",
      "12/12 [==============================] - 10s 849ms/step - loss: 0.0945 - accuracy: 0.9967 - val_loss: 0.1027 - val_accuracy: 0.9950\n",
      "Epoch 31/50\n",
      "12/12 [==============================] - 11s 952ms/step - loss: 0.0915 - accuracy: 0.9950 - val_loss: 0.1007 - val_accuracy: 0.9950\n",
      "Epoch 32/50\n",
      "12/12 [==============================] - 11s 944ms/step - loss: 0.0892 - accuracy: 0.9967 - val_loss: 0.0991 - val_accuracy: 0.9950\n",
      "Epoch 33/50\n",
      "12/12 [==============================] - 11s 943ms/step - loss: 0.0871 - accuracy: 0.9967 - val_loss: 0.0971 - val_accuracy: 0.9950\n",
      "Epoch 34/50\n",
      "12/12 [==============================] - 11s 954ms/step - loss: 0.0851 - accuracy: 0.9983 - val_loss: 0.0952 - val_accuracy: 0.9950\n",
      "Epoch 35/50\n",
      "12/12 [==============================] - 11s 929ms/step - loss: 0.0830 - accuracy: 0.9983 - val_loss: 0.0939 - val_accuracy: 0.9950\n",
      "Epoch 36/50\n",
      "12/12 [==============================] - 11s 932ms/step - loss: 0.0814 - accuracy: 0.9983 - val_loss: 0.0921 - val_accuracy: 0.9950\n",
      "Epoch 37/50\n",
      "12/12 [==============================] - 11s 944ms/step - loss: 0.0793 - accuracy: 0.9983 - val_loss: 0.0904 - val_accuracy: 0.9950\n",
      "Epoch 38/50\n",
      "12/12 [==============================] - 7s 587ms/step - loss: 0.0779 - accuracy: 1.0000 - val_loss: 0.0891 - val_accuracy: 0.9950\n",
      "Epoch 39/50\n",
      "12/12 [==============================] - 7s 596ms/step - loss: 0.0764 - accuracy: 1.0000 - val_loss: 0.0871 - val_accuracy: 0.9950\n",
      "Epoch 40/50\n",
      "12/12 [==============================] - 10s 837ms/step - loss: 0.0746 - accuracy: 1.0000 - val_loss: 0.0860 - val_accuracy: 0.9950\n",
      "Epoch 41/50\n",
      "12/12 [==============================] - 11s 930ms/step - loss: 0.0730 - accuracy: 1.0000 - val_loss: 0.0842 - val_accuracy: 0.9950\n",
      "Epoch 42/50\n",
      "12/12 [==============================] - 11s 933ms/step - loss: 0.0713 - accuracy: 1.0000 - val_loss: 0.0832 - val_accuracy: 0.9950\n",
      "Epoch 43/50\n",
      "12/12 [==============================] - 11s 927ms/step - loss: 0.0701 - accuracy: 1.0000 - val_loss: 0.0816 - val_accuracy: 0.9950\n",
      "Epoch 44/50\n",
      "12/12 [==============================] - 11s 929ms/step - loss: 0.0686 - accuracy: 1.0000 - val_loss: 0.0803 - val_accuracy: 0.9950\n",
      "Epoch 45/50\n",
      "12/12 [==============================] - 11s 928ms/step - loss: 0.0676 - accuracy: 1.0000 - val_loss: 0.0790 - val_accuracy: 0.9950\n",
      "Epoch 46/50\n",
      "12/12 [==============================] - 11s 928ms/step - loss: 0.0663 - accuracy: 1.0000 - val_loss: 0.0781 - val_accuracy: 0.9950\n",
      "Epoch 47/50\n",
      "12/12 [==============================] - 11s 931ms/step - loss: 0.0648 - accuracy: 1.0000 - val_loss: 0.0764 - val_accuracy: 0.9950\n",
      "Epoch 48/50\n",
      "12/12 [==============================] - 11s 928ms/step - loss: 0.0636 - accuracy: 1.0000 - val_loss: 0.0753 - val_accuracy: 0.9950\n",
      "Epoch 49/50\n",
      "12/12 [==============================] - 11s 930ms/step - loss: 0.0629 - accuracy: 1.0000 - val_loss: 0.0741 - val_accuracy: 0.9950\n",
      "Epoch 50/50\n",
      "12/12 [==============================] - 11s 930ms/step - loss: 0.0613 - accuracy: 1.0000 - val_loss: 0.0730 - val_accuracy: 0.9950\n"
     ]
    }
   ],
   "source": [
    "fit_history_vgg = model_vgg.fit_generator(\n",
    "    train_generator,\n",
    "    steps_per_epoch=steps_per_epoch_training,\n",
    "    epochs=num_epochs,\n",
    "    validation_data=validation_generator,\n",
    "    validation_steps=steps_per_epoch_validation,\n",
    "    verbose=1,\n",
    "    \n",
    ")"
   ]
  },
  {
   "cell_type": "code",
   "execution_count": 47,
   "id": "4d0ab8bf",
   "metadata": {},
   "outputs": [],
   "source": [
    "model_vgg.save('vgg16_model1.h5')"
   ]
  },
  {
   "cell_type": "code",
   "execution_count": 49,
   "id": "2f5b8975",
   "metadata": {},
   "outputs": [
    {
     "name": "stdout",
     "output_type": "stream",
     "text": [
      "Found 200 images belonging to 2 classes.\n"
     ]
    }
   ],
   "source": [
    "data_generator_test = ImageDataGenerator(\n",
    "    preprocessing_function=preprocess_input,\n",
    ")\n",
    "test_generator = data_generator_test.flow_from_directory(\n",
    "    'E:\\\\Bali\\\\Kaggle Competition\\\\test',\n",
    "    target_size=(image_resize, image_resize),\n",
    "    shuffle=False)\n"
   ]
  },
  {
   "cell_type": "code",
   "execution_count": 50,
   "id": "c0b8c91b",
   "metadata": {},
   "outputs": [
    {
     "name": "stderr",
     "output_type": "stream",
     "text": [
      "C:\\Users\\ASUS\\AppData\\Local\\Temp\\ipykernel_16300\\1474210604.py:1: UserWarning: `Model.evaluate_generator` is deprecated and will be removed in a future version. Please use `Model.evaluate`, which supports generators.\n",
      "  model_vgg.evaluate_generator(test_generator,steps=None, callbacks=None, max_queue_size=10, workers=1, use_multiprocessing=False)\n"
     ]
    },
    {
     "data": {
      "text/plain": [
       "[0.1472681760787964, 0.9800000190734863]"
      ]
     },
     "execution_count": 50,
     "metadata": {},
     "output_type": "execute_result"
    }
   ],
   "source": [
    "model_vgg.evaluate_generator(test_generator,steps=None, callbacks=None, max_queue_size=10, workers=1, use_multiprocessing=False)"
   ]
  },
  {
   "cell_type": "code",
   "execution_count": null,
   "id": "5ab98478",
   "metadata": {},
   "outputs": [],
   "source": []
  }
 ],
 "metadata": {
  "kernelspec": {
   "display_name": "Python 3 (ipykernel)",
   "language": "python",
   "name": "python3"
  },
  "language_info": {
   "codemirror_mode": {
    "name": "ipython",
    "version": 3
   },
   "file_extension": ".py",
   "mimetype": "text/x-python",
   "name": "python",
   "nbconvert_exporter": "python",
   "pygments_lexer": "ipython3",
   "version": "3.9.7"
  }
 },
 "nbformat": 4,
 "nbformat_minor": 5
}
